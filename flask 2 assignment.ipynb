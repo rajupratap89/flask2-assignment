{
 "cells": [
  {
   "cell_type": "code",
   "execution_count": null,
   "id": "aecc895d-7171-47f3-be6f-aeeeb0b94225",
   "metadata": {},
   "outputs": [],
   "source": [
    "Q1. Explain GET and POST methods."
   ]
  },
  {
   "cell_type": "code",
   "execution_count": null,
   "id": "1388be3d-0023-4d44-a217-c77a512a85ac",
   "metadata": {},
   "outputs": [],
   "source": [
    "GET is HTTP method used to request and send data between client(such as a web browser)\n",
    "eg-if we search data science on google query show data science.GET is publically\n",
    "\n",
    "POST-The POST method is used to submit data to be processed to a specified resource. It is designed to send data to the server to create a new resource.\n",
    "-POST is private \n",
    "eg-if we login email_id this data is private not shown any one "
   ]
  },
  {
   "cell_type": "code",
   "execution_count": null,
   "id": "a0efd219-11ac-472d-8f23-2ec8f45c49c5",
   "metadata": {},
   "outputs": [],
   "source": [
    "Q2. Why is request used in Flask?"
   ]
  },
  {
   "cell_type": "code",
   "execution_count": null,
   "id": "76be8fbe-ea36-4d76-823d-ac97fb70d9cb",
   "metadata": {},
   "outputs": [],
   "source": [
    "In flask 'request' access data incoming data to send to the server(usually web browser)\n",
    "\n",
    "from flask import Flask ,request\n",
    "app=Flask(__name__)\n",
    "\n",
    "@app.route('/' methods='POST')\n",
    "def home_page():\n",
    "    return \"this is my code\"\n"
   ]
  },
  {
   "cell_type": "code",
   "execution_count": null,
   "id": "e575d532-ff72-4ba8-81b5-c2ca06543873",
   "metadata": {},
   "outputs": [],
   "source": [
    "Q3. Why is redirect() used in Flask?"
   ]
  },
  {
   "cell_type": "code",
   "execution_count": null,
   "id": "9feab41e-c3d5-40dd-9a07-d284e1735113",
   "metadata": {},
   "outputs": [],
   "source": [
    "In Flask 'redirect()' function is used to redirect web browser to url or different route.\n",
    "\n",
    "\n",
    "from flask import Flask ,redirect\n",
    "\n",
    "app=Flask(__name__)\n",
    "\n",
    "@app.route('/')\n",
    "def new_web():\n",
    "    return redirect(route)"
   ]
  },
  {
   "cell_type": "code",
   "execution_count": null,
   "id": "e42d66c4-9221-4f2c-92f1-fcb080081416",
   "metadata": {},
   "outputs": [],
   "source": [
    "Q4. What are templates in Flask? Why is the render_template() function used?"
   ]
  },
  {
   "cell_type": "code",
   "execution_count": null,
   "id": "0ab5994f-2f7d-4f12-9338-8b918a169b9c",
   "metadata": {},
   "outputs": [],
   "source": [
    "Templates in flask refer HTML file it is fundamental part of web development.\n",
    "-templates use 'render_template',template_html\n",
    "-template involve  {{title}},{{name}},{{item}}\n",
    "\n",
    "\n",
    "The render_template function used for \n",
    "\n",
    "\n",
    "\n",
    "from flask import Flask ,render_template\n",
    "\n",
    "app=Flask(__name__)\n",
    "\n",
    "@app.route('/')\n",
    "def home_page():\n",
    "    return render_template(results.html ,result=result)"
   ]
  },
  {
   "cell_type": "code",
   "execution_count": null,
   "id": "d9884c17-6dee-4881-9d9e-e05fc4cd9c77",
   "metadata": {},
   "outputs": [],
   "source": [
    "Q5. Create a simple API. Use Postman to test it. Attach the screenshot of the output in the Jupyter Notebook."
   ]
  },
  {
   "cell_type": "code",
   "execution_count": null,
   "id": "eb76c3c9-7dda-4e0f-a083-4744fc26219a",
   "metadata": {},
   "outputs": [],
   "source": [
    "from flask import Flask\n",
    "\n",
    "app=Flask(__name__)\n",
    "\n",
    "@app.route('/')\n",
    "def home_page():\n",
    "    return \"anything\""
   ]
  }
 ],
 "metadata": {
  "kernelspec": {
   "display_name": "Python 3 (ipykernel)",
   "language": "python",
   "name": "python3"
  },
  "language_info": {
   "codemirror_mode": {
    "name": "ipython",
    "version": 3
   },
   "file_extension": ".py",
   "mimetype": "text/x-python",
   "name": "python",
   "nbconvert_exporter": "python",
   "pygments_lexer": "ipython3",
   "version": "3.10.8"
  }
 },
 "nbformat": 4,
 "nbformat_minor": 5
}
